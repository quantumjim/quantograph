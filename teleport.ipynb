{
 "cells": [
  {
   "cell_type": "code",
   "execution_count": 1,
   "metadata": {},
   "outputs": [],
   "source": [
    "from PIL import Image\n",
    "from qiskit import *\n",
    "import time\n",
    "import numpy as np"
   ]
  },
  {
   "cell_type": "code",
   "execution_count": 2,
   "metadata": {},
   "outputs": [],
   "source": [
    "from quantograph import *\n",
    "import runes"
   ]
  },
  {
   "cell_type": "code",
   "execution_count": 3,
   "metadata": {},
   "outputs": [],
   "source": [
    "def show_image(image):\n",
    "    img = Image.new('RGB',(8,8))\n",
    "    for x in range(img.size[0]):\n",
    "        for y in range(img.size[1]):\n",
    "            img.load()[x,y] = image[x,y]\n",
    "    img = img.resize((256,256))\n",
    "    img.show()"
   ]
  },
  {
   "cell_type": "code",
   "execution_count": null,
   "metadata": {},
   "outputs": [],
   "source": []
  },
  {
   "cell_type": "code",
   "execution_count": 4,
   "metadata": {},
   "outputs": [],
   "source": [
    "n = 6\n",
    "backend = Aer.get_backend('statevector_simulator')\n",
    "left = QuantumRegister(n)\n",
    "right = QuantumRegister(n)"
   ]
  },
  {
   "cell_type": "code",
   "execution_count": null,
   "metadata": {},
   "outputs": [],
   "source": []
  },
  {
   "cell_type": "code",
   "execution_count": 5,
   "metadata": {},
   "outputs": [],
   "source": [
    "def renderer(left_image,right_image,frame_num,method='A'):\n",
    "    \n",
    "    left_state = image2state( left_image, grid )\n",
    "    right_state = image2state( right_image, grid )\n",
    "\n",
    "    filenames = {'left':[],'right':[]}\n",
    "    \n",
    "    for f in range(frame_num):\n",
    "        \n",
    "        print( (f+1)*100/frame_num )\n",
    "\n",
    "        circuits = []\n",
    "        for j in range(3):\n",
    "            qc = QuantumCircuit(left,right)\n",
    "            qc.initialize(left_state[j],left)\n",
    "            qc.initialize(right_state[j],right)\n",
    "            \n",
    "            if method=='A':\n",
    "                qc.cx(left,right)\n",
    "                qc.rx( np.pi*f/(2*(frame_num-1)), left )\n",
    "                qc.cz(right,left)\n",
    "                qc.rx( -np.pi*f/(2*(frame_num-1)), left )\n",
    "                qc.cz(right,left)\n",
    "                qc.cx(left,right)\n",
    "            elif method=='B':\n",
    "                if (f<int(frame_num/3)):\n",
    "                    frame_num1 = int(frame_num/3)\n",
    "                    qc.rx( np.pi*f/(2*(frame_num1-1)), right )\n",
    "                    qc.cz(left,right)\n",
    "                    qc.rx( -np.pi*f/(2*(frame_num1-1)), right )\n",
    "                    qc.cz(left,right)\n",
    "                    print( (f+1)/frame_num1 )\n",
    "                elif (f<int(2*frame_num/3)):\n",
    "                    frame_num1 = int(frame_num/3)\n",
    "                    frame_num2 = int(2*frame_num/3)-frame_num1\n",
    "                    ff = f-frame_num1\n",
    "                    qc.cx(left,right)\n",
    "                    qc.rx( np.pi*(ff+1)/(2*frame_num2), left )\n",
    "                    qc.cz(right,left)\n",
    "                    qc.rx( -np.pi*(ff+1)/(2*frame_num2), left )\n",
    "                    qc.cz(right,left)\n",
    "                    print( (ff+1)/frame_num2 )\n",
    "                else:\n",
    "                    frame_num1 = int(frame_num/3)\n",
    "                    frame_num2 = int(2*frame_num/3)-frame_num1\n",
    "                    frame_num3 = frame_num - int(2*frame_num/3)\n",
    "                    ff = f-frame_num2-frame_num1\n",
    "                    qc.cx(left,right)\n",
    "                    qc.cx(right,left)\n",
    "                    qc.rx( np.pi*(ff+1)/(2*frame_num3), right )\n",
    "                    qc.cz(left,right)\n",
    "                    qc.rx( -np.pi*(ff+1)/(2*frame_num3), right )\n",
    "                    qc.cz(left,right)\n",
    "                    print( (ff+1)/frame_num3 )\n",
    "            else:    \n",
    "                qc.rx( np.pi*f/(2*(frame_num-1)), right )\n",
    "                qc.cz(left,right)\n",
    "                qc.rx( -np.pi*f/(2*(frame_num-1)), right )\n",
    "                qc.cz(left,right)\n",
    "                qc.rx( np.pi*f/(2*(frame_num-1)), left )\n",
    "                qc.cz(right,left)\n",
    "                qc.rx( -np.pi*f/(2*(frame_num-1)), left )\n",
    "                qc.cz(right,left)\n",
    "                qc.rx( np.pi*f/(2*(frame_num-1)), right )\n",
    "                qc.cz(left,right)\n",
    "                qc.rx( -np.pi*f/(2*(frame_num-1)), right )\n",
    "                qc.cz(left,right)\n",
    "                \n",
    "            circuits.append( qc )\n",
    "\n",
    "        job = execute(circuits, backend, shots=1)\n",
    "\n",
    "        counts = {'left':[],'right':[]}\n",
    "        for j in range(3):\n",
    "            full_counts = ket2counts( job.result().get_statevector(circuits[j]) )\n",
    "\n",
    "            left_counts = {}\n",
    "            right_counts = {}\n",
    "            for full_string in full_counts:\n",
    "                left_string = full_string[6:12]\n",
    "                right_string = full_string[:6]\n",
    "                try:\n",
    "                    left_counts[left_string] += full_counts[full_string]\n",
    "                except:\n",
    "                    left_counts[left_string] = full_counts[full_string]\n",
    "                try:\n",
    "                    right_counts[right_string] += full_counts[full_string]\n",
    "                except:\n",
    "                    right_counts[right_string] = full_counts[full_string]\n",
    "\n",
    "            counts['left'].append( left_counts )\n",
    "            counts['right'].append( right_counts )\n",
    "\n",
    "        left_frame = counts2image(counts['left'],grid)\n",
    "        right_frame = counts2image(counts['right'],grid)\n",
    "\n",
    "        for side in ['left','right']:\n",
    "            filename = 'outputs/temp_'+side+'_'+str(f)+'.png'\n",
    "            if side=='left':\n",
    "                frame = left_frame\n",
    "            else:\n",
    "                frame = right_frame\n",
    "            save_image( frame, scale=[300,300], filename=filename)\n",
    "            filenames[side].append( filename )\n",
    "\n",
    "    animation = {'left':'','right':''}        \n",
    "    for side in ['left','right']:\n",
    "        t = time.localtime()\n",
    "        animation[side] = 'outputs/'+side+'_'+str(t.tm_year)+'_'+str(t.tm_mon)+'_'+str(t.tm_mday)+'@'+str(t.tm_hour)+':'+str(t.tm_min)+':'+str(t.tm_sec)+'.png'\n",
    "        APNG.from_files(filenames[side],delay=250).save( animation[side] )\n",
    "\n",
    "    for side in ['left','right']:\n",
    "        for filename in filenames[side]:\n",
    "            os.remove(filename)\n",
    "\n",
    "    return animation"
   ]
  },
  {
   "cell_type": "code",
   "execution_count": 12,
   "metadata": {},
   "outputs": [
    {
     "name": "stdout",
     "output_type": "stream",
     "text": [
      "5.0\n",
      "10.0\n",
      "15.0\n",
      "20.0\n",
      "25.0\n",
      "30.0\n",
      "35.0\n",
      "40.0\n",
      "45.0\n",
      "50.0\n",
      "55.0\n",
      "60.0\n",
      "65.0\n",
      "70.0\n",
      "75.0\n",
      "80.0\n",
      "85.0\n",
      "90.0\n",
      "95.0\n",
      "100.0\n"
     ]
    },
    {
     "data": {
      "text/markdown": [
       "![](outputs/left_2019_11_3@20:13:34.png)"
      ],
      "text/plain": [
       "<IPython.core.display.Markdown object>"
      ]
     },
     "metadata": {},
     "output_type": "display_data"
    },
    {
     "data": {
      "text/markdown": [
       "![](outputs/right_2019_11_3@20:13:34.png)"
      ],
      "text/plain": [
       "<IPython.core.display.Markdown object>"
      ]
     },
     "metadata": {},
     "output_type": "display_data"
    }
   ],
   "source": [
    "frame_num = 20\n",
    "animation = renderer(runes.rune6,runes.rune7,frame_num,method='A')\n",
    "display(Markdown('![]('+animation['left']+')'))\n",
    "display(Markdown('![]('+animation['right']+')'))"
   ]
  },
  {
   "cell_type": "code",
   "execution_count": null,
   "metadata": {},
   "outputs": [],
   "source": []
  }
 ],
 "metadata": {
  "kernelspec": {
   "display_name": "Python 3",
   "language": "python",
   "name": "python3"
  },
  "language_info": {
   "codemirror_mode": {
    "name": "ipython",
    "version": 3
   },
   "file_extension": ".py",
   "mimetype": "text/x-python",
   "name": "python",
   "nbconvert_exporter": "python",
   "pygments_lexer": "ipython3",
   "version": "3.7.0"
  }
 },
 "nbformat": 4,
 "nbformat_minor": 2
}
